{
  "nbformat": 4,
  "nbformat_minor": 0,
  "metadata": {
    "colab": {
      "name": "02_from_model_to_production.ipynb.ipynb",
      "provenance": [],
      "collapsed_sections": [],
      "authorship_tag": "ABX9TyNC4riykxlXOqnJ5DNu74FP",
      "include_colab_link": true
    },
    "kernelspec": {
      "name": "python3",
      "display_name": "Python 3"
    },
    "language_info": {
      "name": "python"
    }
  },
  "cells": [
    {
      "cell_type": "markdown",
      "metadata": {
        "id": "view-in-github",
        "colab_type": "text"
      },
      "source": [
        "<a href=\"https://colab.research.google.com/github/antounes/deep-learning-fastai-pytorch/blob/main/02_from_model_to_production_ipynb.ipynb\" target=\"_parent\"><img src=\"https://colab.research.google.com/assets/colab-badge.svg\" alt=\"Open In Colab\"/></a>"
      ]
    },
    {
      "cell_type": "markdown",
      "source": [
        "# \"Classifying Rock Types with Deep Learning: A Trial\"\n",
        "> \"This is the first post of my research work on convolutional neural networks, a family of neural networks mostly used (but not only) for solving computer vision problems.\"\n",
        "\n",
        "- toc: true\n",
        "- badges: false\n",
        "- show_tags: false\n",
        "- comments: true"
      ],
      "metadata": {
        "id": "1ZErxVMbcGoQ"
      }
    },
    {
      "cell_type": "markdown",
      "source": [
        "This personal research work should help me getting a sound understanding of how convolutional neural networks work under the hood. Notebooks help mixing computer science practice and deep learning theory."
      ],
      "metadata": {
        "id": "5QDaSOcCGE79"
      }
    },
    {
      "cell_type": "markdown",
      "source": [
        "## Introduction\n",
        "\n",
        "The goal here is to build a classifier for distinguishing between rock types. Part of my studies focused on Eart Science, and before definitely switching to math and computer science, I spent a decent part of my time working as a field geologist student. One of the most tricky parts of the job was identifying rocks, be it directly on the field or after, when back in the lab. \n",
        "\n",
        "The image below shows the three major families of rocks geologists distinguish, namely igneous (formed through cooling and solidification of lava), metamorphic (formed by transformation of existing rocks under varying pressure and temperature conditions) and sedimentary (formed by accumulation or deposition of mineral or organic particles).\n",
        "\n",
        "![](images/rocks.png \"From left to right: igneous, metamorphic and sedimentary rocks\")\n",
        "\n",
        "Let's assess if such rocks are understandable and can be represented in such a manner that a neural network can distinguish between their types."
      ],
      "metadata": {
        "id": "gpJrboSRm-4C"
      }
    },
    {
      "cell_type": "markdown",
      "source": [
        "## The Dataset\n",
        "\n",
        "Our rocks dataset has been prepared by people from the Brac University Mars Rover Team for the purpose of research of similar rocks identification in a mars-like surface and is freely available on [Kaggle](https://www.kaggle.com/salmaneunus/rock-classification). \n",
        "\n",
        "The exercice here consists in classifying rocks not only as igneous, sedimentary or metamorphic, but as rock names. Our dataset includes the following rocks for each rock family:\n",
        "- Igneous: basalt, granite\n",
        "- Metamorphic: marble, quartzite\n",
        "- Sedimentary: coal, limestone, sandstone"
      ],
      "metadata": {
        "id": "G7xGAvLFMNSo"
      }
    },
    {
      "cell_type": "code",
      "source": [
        "#hide\n",
        "!pip install -Uqq fastbook\n",
        "import fastbook\n",
        "fastbook.setup_book()"
      ],
      "metadata": {
        "id": "j9SWgjywwIxD"
      },
      "execution_count": null,
      "outputs": []
    },
    {
      "cell_type": "code",
      "source": [
        "#hide\n",
        "from fastbook import *\n",
        "from fastai.vision.widgets import *"
      ],
      "metadata": {
        "id": "0FOH6fpVwGHk"
      },
      "execution_count": null,
      "outputs": []
    },
    {
      "cell_type": "code",
      "source": [
        "#hide\n",
        "from google.colab import drive\n",
        "drive.mount('/content/drive/')"
      ],
      "metadata": {
        "id": "tyDCJeoks4sY"
      },
      "execution_count": null,
      "outputs": []
    },
    {
      "cell_type": "code",
      "source": [
        "#hide_input\n",
        "\n",
        "# Create path and copy images from Google Drive\n",
        "path = Path('rocks')\n",
        "!cp -r gdrive/MyDrive/blog/rocks {path}\n",
        "\n",
        "# Get images for fastai format\n",
        "fns = get_image_files(path)\n",
        "print('{} rock images copied to {}'.format(len(fns), path))\n",
        "\n",
        "# Search for corrupt images\n",
        "failed = verify_images(fns)\n",
        "print('{} corrupted file(s)'.format(len(failed)))\n",
        "\n",
        "# Discard corrupt images\n",
        "failed.map(Path.unlink);"
      ],
      "metadata": {
        "id": "0ux2V7hEtQmQ"
      },
      "execution_count": null,
      "outputs": []
    },
    {
      "cell_type": "markdown",
      "source": [
        "## Preparing Data for Training The Network\n",
        "\n",
        "### Creating Suitable Data Structures\n",
        "\n",
        "Convolutional neural networks accept images as inputs. They won't accept jpg, png, or any other image file format though. Generally speaking, when developing deep learning models, our first thoughts must concern data representation, be it technically or conceptually.\n",
        "\n",
        "Technically, models accept numbers. Deal with it. We'll have to find a way of passing our downloaded images to the model we'll build in a way the model will be able to process them and produce outputs from them.\n",
        "Conceptually, before diving headfirst in code, carefully thinking of a way of representing raw data can save hours and prevent headaches that could arise when dealing with neural network architecture considerations.\n",
        "\n",
        "We must also define how to create the sets used for training and evaluating our model. Here, the variable to predict (the *dependent* variable) is a rock name $-$ basalt, granite, marble, quartzite, coal, limestone or sandstone. The inputs used by the model for outputing classifications (the *independent* variables) are rock images. Building the training and validation sets must be carried out carefully, and significant performance improvements can come only from a wise selection of training and validation examples for feeding a network. Here we'll perform random splitting of the images, with a fraction of 20% being used as validation set.\n",
        "\n",
        "Images downloaded are of different sizes. We can have a look at the size distribution below (for the sake of clarity, only sizes counting more than 10 images have been plotted here). This is a problem since we won't feed our network one image at a time, but rather batches of images (technically we're feeding *mini-batches*, but this will be discussed later). Before grouping it into a structure that can be sliced into such mini-batches, we need to resize the images to the same size."
      ],
      "metadata": {
        "id": "WYGfraNfMRlj"
      }
    },
    {
      "cell_type": "code",
      "source": [
        "#hide_input\n",
        "\n",
        "sizes = []\n",
        "for img in fns:\n",
        "  try:\n",
        "    img_size = Image.open(img).size\n",
        "    sizes.append(img_size)\n",
        "  except FileNotFoundError:\n",
        "    pass\n",
        "\n",
        "counter = collections.Counter(sizes)\n",
        "counts = {str(k): v for k, v in counter.items() if v > 5}\n",
        "df = pd.Series(counts).sort_values(ascending=False)\n",
        "\n",
        "plt.figure(figsize=(10, 6))\n",
        "plt.bar(range(len(df)), df.values, align='center')\n",
        "plt.xticks(range(len(df)), df.index.values, size='small')\n",
        "plt.title('Image size distribution (sizes counting more than 10 examples)');\n",
        "plt.xlabel('Image size');\n",
        "plt.ylabel('Images count');\n",
        "plt.show()"
      ],
      "metadata": {
        "id": "kg7W32WI5dqI"
      },
      "execution_count": null,
      "outputs": []
    },
    {
      "cell_type": "code",
      "source": [
        "#hide\n",
        "\n",
        "rocks = DataBlock(\n",
        "    blocks=(ImageBlock, CategoryBlock),\n",
        "    get_items=get_image_files,\n",
        "    splitter=RandomSplitter(valid_pct=0.2, seed=42),\n",
        "    get_y=parent_label,\n",
        "    item_tfms=Resize(128))\n",
        "\n",
        "dls = rocks.dataloaders(path)"
      ],
      "metadata": {
        "id": "qiz_heCHxqFB"
      },
      "execution_count": null,
      "outputs": []
    },
    {
      "cell_type": "markdown",
      "source": [
        "Once all these preparation steps have been defined and carried out, we're ready to build our data structures and provide them to the network. We can look at a few images from the training and validation batches we just created."
      ],
      "metadata": {
        "id": "fZEygmqv-iTj"
      }
    },
    {
      "cell_type": "code",
      "source": [
        "#hide_input\n",
        "\n",
        "dls.train.show_batch(max_n=5, nrows=1)"
      ],
      "metadata": {
        "id": "Pwo0VeRh-zi5"
      },
      "execution_count": null,
      "outputs": []
    },
    {
      "cell_type": "markdown",
      "source": [
        "Let's pause a second for an important word here: resizing images will somewhat modify the reality. The model will be fed with images that may be cropped, stretched, etc. \n",
        "\n",
        "A very crucial point in machine learning (and consequently in deep learning) is that a models cannot perform on concepts they haven't been trained on. Feeding a neural network with black and white images and then trying to produce outputs on never-seen coloured images can only result in poor performance. The goal of deep learning is to find *useful* representations of data, be it in a humanly understandable space or not. Models cannot invent representations while they haven't been trained on, they're just searching for better and more explainable representations of the input data. That's why data preparation is maybe the most important point in building deep learning models."
      ],
      "metadata": {
        "id": "UcoQm-ad_adn"
      }
    },
    {
      "cell_type": "markdown",
      "source": [
        "### Data Augmentation"
      ],
      "metadata": {
        "id": "tPiC_an7-7hR"
      }
    }
  ]
}