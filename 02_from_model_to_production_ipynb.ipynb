{
  "nbformat": 4,
  "nbformat_minor": 0,
  "metadata": {
    "colab": {
      "name": "02_from_model_to_production.ipynb.ipynb",
      "provenance": [],
      "collapsed_sections": [],
      "authorship_tag": "ABX9TyMbGx7eoXfuV/kp7XT8gWFE",
      "include_colab_link": true
    },
    "kernelspec": {
      "name": "python3",
      "display_name": "Python 3"
    },
    "language_info": {
      "name": "python"
    }
  },
  "cells": [
    {
      "cell_type": "markdown",
      "metadata": {
        "id": "view-in-github",
        "colab_type": "text"
      },
      "source": [
        "<a href=\"https://colab.research.google.com/github/antounes/deep-learning-fastai-pytorch/blob/main/02_from_model_to_production_ipynb.ipynb\" target=\"_parent\"><img src=\"https://colab.research.google.com/assets/colab-badge.svg\" alt=\"Open In Colab\"/></a>"
      ]
    },
    {
      "cell_type": "markdown",
      "source": [
        "# Classifying Bicycle Spare Parts with Deep Learning - A Trial"
      ],
      "metadata": {
        "id": "1ZErxVMbcGoQ"
      }
    },
    {
      "cell_type": "markdown",
      "source": [
        "This is the first post of my research work on convolutional neural networks, a family of neural networks mostly used (but not only) for solving computer vision problems. This personal research work should help me getting a sound understanding of how convolutional neural networks work under the hood. Notebooks help mixing computer science practice and deep learning theory.\n",
        "\n",
        "This notebook is implemented with fast.ai and PyTorch, and is greatly inspired from Howard's and Gugger's book *Deep Learning for Coders with fast.ai and PyTorch*."
      ],
      "metadata": {
        "id": "UrKvafX95j0u"
      }
    },
    {
      "cell_type": "markdown",
      "source": [
        "## Introduction"
      ],
      "metadata": {
        "id": "gpJrboSRm-4C"
      }
    },
    {
      "cell_type": "markdown",
      "source": [
        "The goal here is to build a classifier for distinguishing between bicycle spare parts. When looking for parts, one of the most tedious tasks is to differentiate between different versions of a given part called a cassette. The cassette is a block of sprockets located on the bicycle rear wheel and ensuring the transmission of the power applied on the pedals to the rear wheel via the chain, hence making the bike moving forward. Most today's bicycle drivetrains use either 10-, 11- or 12-sprocket cassettes. Distinguishing between these at first glance is not easy, as can be seen below. In fact what we just see is just a mass of cogs.\n",
        "\n",
        "\n",
        "A 10-speed cassette  | An 11-speed cassette | A 12-speed cassette\n",
        "-------------------  |----------------------|--------------------\n",
        "<img src=\"https://drive.google.com/uc?id=1f8_sMjLukd4po_sZ9ZjIgjUswH9mGd4L\" width=\"200\"> | <img src=\"https://drive.google.com/uc?id=1qrQc14VwHFYy587n6bWH55eIkWCCaMBL\" width=\"200\"> | <img src=\"https://drive.google.com/uc?id=1c2DCHRV2RamZGjvTJp9JwVqYUgOx7Avp\" width=\"155\">\n",
        "\n",
        "\n",
        "Distinguishing between types of cassettes is crucial though, because not all cassettes can be used with all chains and all shifters on a bicycle. 10-speed cassettes go with 10-speed drivetrains, etc.\n",
        "\n",
        "On could argue that it's just about counting the sprockets, or reading the numbers written on the lockring (the smallest and darkest ring of the cassette), but it's not always as easy, especially with greasy or muddy parts, or even with old ones where nothing can be read anymore.\n",
        "\n",
        "Let's assess if such objects are understandable and can be represented in such a manner that a neural network can distinguish between their types."
      ],
      "metadata": {
        "id": "bKJJUcsscbz4"
      }
    },
    {
      "cell_type": "markdown",
      "source": [
        "## Gathering Data"
      ],
      "metadata": {
        "id": "G7xGAvLFMNSo"
      }
    },
    {
      "cell_type": "markdown",
      "source": [
        "First we need to install some utilities provided by fast.ai authors, namely the fastbook library. This library comes with classes and modules that will help us setting up deep learing models."
      ],
      "metadata": {
        "id": "ZBJnOLlRnUft"
      }
    },
    {
      "cell_type": "code",
      "source": [
        "!pip install -Uqq fastbook"
      ],
      "metadata": {
        "id": "rsUCzAl3n03V"
      },
      "execution_count": 1,
      "outputs": []
    },
    {
      "cell_type": "code",
      "execution_count": 2,
      "metadata": {
        "id": "XF6LmIp3zaNZ"
      },
      "outputs": [],
      "source": [
        "import fastbook\n",
        "fastbook.setup_book()\n",
        "from fastbook import *"
      ]
    },
    {
      "cell_type": "markdown",
      "source": [
        "fast.ai authors have built a tool that allows to download images from search engines, thus ensuring we can build our image dataset. Here we'll be using the most up-to-date version of the class, scrapping images from DuckDuckGo search results.\n",
        "For the sake of time-saving and reproducibility, we'll limit the dataset to 100 images of each type of cassette we're trying to identify.\n",
        "\n",
        "Images are scrapped from the Internet and stored in a folder created for each type of cassette. Some additional steps consist of checking if all images are in the create folders and if there are no corrupted files, since they've been downloaded from the Internet. Corrupted files are eventually discarded."
      ],
      "metadata": {
        "id": "kDs3NpUgn7iT"
      }
    },
    {
      "cell_type": "code",
      "source": [
        "# Download URLs for all of our search terms\n",
        "cassettes = ('10 speed', '11 speed', '12 speed')\n",
        "path = Path('cassettes')\n",
        "\n",
        "if not path.exists():\n",
        "  path.mkdir()\n",
        "for c in cassettes:\n",
        "  dest = (path/c)\n",
        "  dest.mkdir(exist_ok=True)\n",
        "  results = search_images_ddg('{} bicycle cassette'.format(c), max_images=100)\n",
        "  download_images(urls=results, dest=dest)"
      ],
      "metadata": {
        "id": "F2_kCZT30ORH"
      },
      "execution_count": 3,
      "outputs": []
    },
    {
      "cell_type": "code",
      "source": [
        "# Check images are located in the destination folder\n",
        "fns = get_image_files(path)\n",
        "print('{} downloaded files:'.format(len(fns)), fns)\n",
        "\n",
        "# Check if some files are corrupt\n",
        "failed = verify_images(fns)\n",
        "print('{} corrupted file(s):'.format(len(failed)), failed)\n",
        "\n",
        "# Remove failed images\n",
        "failed.map(Path.unlink);"
      ],
      "metadata": {
        "colab": {
          "base_uri": "https://localhost:8080/"
        },
        "id": "ufhb_yDm5QCl",
        "outputId": "3ab35cda-d0bb-4c24-8921-fb2c562685d8"
      },
      "execution_count": 4,
      "outputs": [
        {
          "output_type": "stream",
          "name": "stdout",
          "text": [
            "384 downloaded files: [Path('cassettes/12 speed/00000067.jpg'), Path('cassettes/12 speed/00000088.jpg'), Path('cassettes/12 speed/00000073.jpg'), Path('cassettes/12 speed/00000037.jpg'), Path('cassettes/12 speed/00000008.jpeg'), Path('cassettes/12 speed/00000038.jpg'), Path('cassettes/12 speed/00000077.jpeg'), Path('cassettes/12 speed/00000012.jpg'), Path('cassettes/12 speed/00000057.jpg'), Path('cassettes/12 speed/00000023.jpg'), Path('cassettes/12 speed/00000085.jpg'), Path('cassettes/12 speed/00000014.jpg'), Path('cassettes/12 speed/00000064.jpg'), Path('cassettes/12 speed/00000060.jpeg'), Path('cassettes/12 speed/00000011.jpg'), Path('cassettes/12 speed/00000075.jpg'), Path('cassettes/12 speed/00000080.jpg'), Path('cassettes/12 speed/00000026.jpg'), Path('cassettes/12 speed/00000066.jpeg'), Path('cassettes/12 speed/00000002.jpg'), Path('cassettes/12 speed/00000003.jpg'), Path('cassettes/12 speed/00000070.jpg'), Path('cassettes/12 speed/00000021.jpg'), Path('cassettes/12 speed/00000074.jpeg'), Path('cassettes/12 speed/00000033.jpg'), Path('cassettes/12 speed/00000025.jpg'), Path('cassettes/12 speed/00000052.jpg'), Path('cassettes/12 speed/00000094.jpeg'), Path('cassettes/12 speed/00000074.jpg'), Path('cassettes/12 speed/00000010.jpg'), Path('cassettes/12 speed/00000059.jpg'), Path('cassettes/12 speed/00000034.jpg'), Path('cassettes/12 speed/00000094.jpg'), Path('cassettes/12 speed/00000015.jpg'), Path('cassettes/12 speed/00000050.jpeg'), Path('cassettes/12 speed/00000092.jpg'), Path('cassettes/12 speed/00000024.jpg'), Path('cassettes/12 speed/00000098.jpg'), Path('cassettes/12 speed/00000066.jpg'), Path('cassettes/12 speed/00000042.jpg'), Path('cassettes/12 speed/00000017.jpg'), Path('cassettes/12 speed/00000099.jpg'), Path('cassettes/12 speed/00000050.jpg'), Path('cassettes/12 speed/00000020.jpg'), Path('cassettes/12 speed/00000060.jpg'), Path('cassettes/12 speed/00000086.jpg'), Path('cassettes/12 speed/00000009.jpg'), Path('cassettes/12 speed/00000031.jpg'), Path('cassettes/12 speed/00000019.jpg'), Path('cassettes/12 speed/00000041.jpg'), Path('cassettes/12 speed/00000007.jpg'), Path('cassettes/12 speed/00000016.jpg'), Path('cassettes/12 speed/00000004.jpg'), Path('cassettes/12 speed/00000097.jpg'), Path('cassettes/12 speed/00000065.jpg'), Path('cassettes/12 speed/00000044.jpg'), Path('cassettes/12 speed/00000063.jpg'), Path('cassettes/12 speed/00000045.jpg'), Path('cassettes/12 speed/00000056.jpg'), Path('cassettes/12 speed/00000055.jpeg'), Path('cassettes/12 speed/00000000.jpg'), Path('cassettes/12 speed/00000081.jpeg'), Path('cassettes/12 speed/00000051.jpg'), Path('cassettes/12 speed/00000058.jpg'), Path('cassettes/12 speed/00000036.jpeg'), Path('cassettes/12 speed/00000047.jpg'), Path('cassettes/12 speed/00000001.jpg'), Path('cassettes/12 speed/00000024.jpeg'), Path('cassettes/12 speed/00000061.jpg'), Path('cassettes/12 speed/00000035.jpg'), Path('cassettes/12 speed/00000040.jpg'), Path('cassettes/12 speed/00000018.jpg'), Path('cassettes/12 speed/00000032.jpg'), Path('cassettes/12 speed/00000006.jpg'), Path('cassettes/12 speed/00000097.png'), Path('cassettes/12 speed/00000013.jpg'), Path('cassettes/12 speed/00000078.jpg'), Path('cassettes/12 speed/00000096.png'), Path('cassettes/12 speed/00000003.jpeg'), Path('cassettes/12 speed/00000081.jpg'), Path('cassettes/12 speed/00000095.jpeg'), Path('cassettes/12 speed/00000043.jpg'), Path('cassettes/12 speed/00000055.jpg'), Path('cassettes/12 speed/00000071.jpg'), Path('cassettes/12 speed/00000048.jpg'), Path('cassettes/12 speed/00000029.jpg'), Path('cassettes/12 speed/00000089.jpg'), Path('cassettes/12 speed/00000069.jpg'), Path('cassettes/12 speed/00000082.jpeg'), Path('cassettes/12 speed/00000072.jpg'), Path('cassettes/12 speed/00000031.jpeg'), Path('cassettes/12 speed/00000095.jpg'), Path('cassettes/12 speed/00000005.jpg'), Path('cassettes/12 speed/00000054.jpg'), Path('cassettes/12 speed/00000096.jpg'), Path('cassettes/12 speed/00000032.jpeg'), Path('cassettes/12 speed/00000053.jpg'), Path('cassettes/12 speed/00000027.jpg'), Path('cassettes/12 speed/00000046.jpg'), Path('cassettes/12 speed/00000049.jpg'), Path('cassettes/12 speed/00000017.png'), Path('cassettes/12 speed/00000028.jpg'), Path('cassettes/12 speed/00000068.jpg'), Path('cassettes/12 speed/00000084.jpg'), Path('cassettes/12 speed/00000076.jpg'), Path('cassettes/12 speed/00000039.jpg'), Path('cassettes/12 speed/00000079.jpg'), Path('cassettes/12 speed/00000093.jpg'), Path('cassettes/12 speed/00000036.jpg'), Path('cassettes/12 speed/00000091.jpg'), Path('cassettes/12 speed/00000064.jpeg'), Path('cassettes/12 speed/00000087.jpg'), Path('cassettes/12 speed/00000032.png'), Path('cassettes/12 speed/00000082.jpg'), Path('cassettes/12 speed/00000022.jpg'), Path('cassettes/12 speed/00000008.jpg'), Path('cassettes/12 speed/00000077.jpg'), Path('cassettes/12 speed/00000062.jpg'), Path('cassettes/12 speed/00000090.jpg'), Path('cassettes/12 speed/00000013.jpeg'), Path('cassettes/12 speed/00000030.jpg'), Path('cassettes/12 speed/00000083.jpg'), Path('cassettes/10 speed/00000067.jpg'), Path('cassettes/10 speed/00000088.jpg'), Path('cassettes/10 speed/00000073.jpg'), Path('cassettes/10 speed/00000037.jpg'), Path('cassettes/10 speed/00000056.png'), Path('cassettes/10 speed/00000038.jpg'), Path('cassettes/10 speed/00000089.JPG'), Path('cassettes/10 speed/00000012.jpg'), Path('cassettes/10 speed/00000054.png'), Path('cassettes/10 speed/00000057.jpg'), Path('cassettes/10 speed/00000023.jpg'), Path('cassettes/10 speed/00000089.jpeg'), Path('cassettes/10 speed/00000085.jpg'), Path('cassettes/10 speed/00000014.jpg'), Path('cassettes/10 speed/00000064.jpg'), Path('cassettes/10 speed/00000099.jpeg'), Path('cassettes/10 speed/00000060.jpeg'), Path('cassettes/10 speed/00000011.jpg'), Path('cassettes/10 speed/00000075.jpg'), Path('cassettes/10 speed/00000080.jpg'), Path('cassettes/10 speed/00000018.jpeg'), Path('cassettes/10 speed/00000073.jpeg'), Path('cassettes/10 speed/00000026.jpg'), Path('cassettes/10 speed/00000096.jpeg'), Path('cassettes/10 speed/00000002.jpg'), Path('cassettes/10 speed/00000083.jpeg'), Path('cassettes/10 speed/00000003.jpg'), Path('cassettes/10 speed/00000070.jpg'), Path('cassettes/10 speed/00000021.jpg'), Path('cassettes/10 speed/00000065.jpeg'), Path('cassettes/10 speed/00000053.jpeg'), Path('cassettes/10 speed/00000074.jpeg'), Path('cassettes/10 speed/00000033.jpg'), Path('cassettes/10 speed/00000025.jpg'), Path('cassettes/10 speed/00000052.jpg'), Path('cassettes/10 speed/00000074.jpg'), Path('cassettes/10 speed/00000010.jpg'), Path('cassettes/10 speed/00000059.jpg'), Path('cassettes/10 speed/00000034.jpg'), Path('cassettes/10 speed/00000094.jpg'), Path('cassettes/10 speed/00000015.jpg'), Path('cassettes/10 speed/00000092.jpg'), Path('cassettes/10 speed/00000024.jpg'), Path('cassettes/10 speed/00000098.jpg'), Path('cassettes/10 speed/00000066.jpg'), Path('cassettes/10 speed/00000042.jpg'), Path('cassettes/10 speed/00000061.jpeg'), Path('cassettes/10 speed/00000017.jpg'), Path('cassettes/10 speed/00000099.jpg'), Path('cassettes/10 speed/00000050.jpg'), Path('cassettes/10 speed/00000085.jpeg'), Path('cassettes/10 speed/00000020.jpg'), Path('cassettes/10 speed/00000060.jpg'), Path('cassettes/10 speed/00000086.jpg'), Path('cassettes/10 speed/00000009.jpg'), Path('cassettes/10 speed/00000031.jpg'), Path('cassettes/10 speed/00000019.jpg'), Path('cassettes/10 speed/00000041.jpg'), Path('cassettes/10 speed/00000007.jpg'), Path('cassettes/10 speed/00000016.jpg'), Path('cassettes/10 speed/00000004.jpg'), Path('cassettes/10 speed/00000097.jpg'), Path('cassettes/10 speed/00000092.jpeg'), Path('cassettes/10 speed/00000065.jpg'), Path('cassettes/10 speed/00000044.jpg'), Path('cassettes/10 speed/00000063.jpg'), Path('cassettes/10 speed/00000045.jpg'), Path('cassettes/10 speed/00000044.jpeg'), Path('cassettes/10 speed/00000056.jpg'), Path('cassettes/10 speed/00000007.jpeg'), Path('cassettes/10 speed/00000021.jpeg'), Path('cassettes/10 speed/00000000.jpg'), Path('cassettes/10 speed/00000037.jpeg'), Path('cassettes/10 speed/00000051.jpg'), Path('cassettes/10 speed/00000058.jpg'), Path('cassettes/10 speed/00000036.jpeg'), Path('cassettes/10 speed/00000047.jpg'), Path('cassettes/10 speed/00000001.jpg'), Path('cassettes/10 speed/00000084.jpeg'), Path('cassettes/10 speed/00000061.jpg'), Path('cassettes/10 speed/00000035.jpg'), Path('cassettes/10 speed/00000040.jpg'), Path('cassettes/10 speed/00000018.jpg'), Path('cassettes/10 speed/00000032.jpg'), Path('cassettes/10 speed/00000006.jpg'), Path('cassettes/10 speed/00000063.jpeg'), Path('cassettes/10 speed/00000030.jpeg'), Path('cassettes/10 speed/00000013.jpg'), Path('cassettes/10 speed/00000085.png'), Path('cassettes/10 speed/00000078.jpg'), Path('cassettes/10 speed/00000081.jpg'), Path('cassettes/10 speed/00000095.jpeg'), Path('cassettes/10 speed/00000043.jpg'), Path('cassettes/10 speed/00000055.jpg'), Path('cassettes/10 speed/00000071.jpg'), Path('cassettes/10 speed/00000048.jpg'), Path('cassettes/10 speed/00000094.png'), Path('cassettes/10 speed/00000029.jpg'), Path('cassettes/10 speed/00000089.jpg'), Path('cassettes/10 speed/00000069.jpg'), Path('cassettes/10 speed/00000072.jpg'), Path('cassettes/10 speed/00000017.jpeg'), Path('cassettes/10 speed/00000095.jpg'), Path('cassettes/10 speed/00000005.jpg'), Path('cassettes/10 speed/00000054.jpg'), Path('cassettes/10 speed/00000096.jpg'), Path('cassettes/10 speed/00000053.jpg'), Path('cassettes/10 speed/00000027.jpg'), Path('cassettes/10 speed/00000046.jpg'), Path('cassettes/10 speed/00000001.jpeg'), Path('cassettes/10 speed/00000049.jpg'), Path('cassettes/10 speed/00000028.jpg'), Path('cassettes/10 speed/00000020.jpeg'), Path('cassettes/10 speed/00000043.JPG'), Path('cassettes/10 speed/00000068.jpg'), Path('cassettes/10 speed/00000084.jpg'), Path('cassettes/10 speed/00000076.jpg'), Path('cassettes/10 speed/00000039.jpg'), Path('cassettes/10 speed/00000079.jpg'), Path('cassettes/10 speed/00000093.jpg'), Path('cassettes/10 speed/00000036.jpg'), Path('cassettes/10 speed/00000008.JPG'), Path('cassettes/10 speed/00000091.jpg'), Path('cassettes/10 speed/00000087.jpg'), Path('cassettes/10 speed/00000082.jpg'), Path('cassettes/10 speed/00000086.JPG'), Path('cassettes/10 speed/00000022.jpg'), Path('cassettes/10 speed/00000008.jpg'), Path('cassettes/10 speed/00000088.jpeg'), Path('cassettes/10 speed/00000005.jpeg'), Path('cassettes/10 speed/00000077.jpg'), Path('cassettes/10 speed/00000062.jpg'), Path('cassettes/10 speed/00000090.jpg'), Path('cassettes/10 speed/00000030.jpg'), Path('cassettes/10 speed/00000083.jpg'), Path('cassettes/11 speed/00000067.jpg'), Path('cassettes/11 speed/00000088.jpg'), Path('cassettes/11 speed/00000073.jpg'), Path('cassettes/11 speed/00000037.jpg'), Path('cassettes/11 speed/00000045.jpeg'), Path('cassettes/11 speed/00000052.jpeg'), Path('cassettes/11 speed/00000038.jpg'), Path('cassettes/11 speed/00000089.JPG'), Path('cassettes/11 speed/00000012.jpg'), Path('cassettes/11 speed/00000057.jpg'), Path('cassettes/11 speed/00000023.jpg'), Path('cassettes/11 speed/00000085.jpg'), Path('cassettes/11 speed/00000014.jpg'), Path('cassettes/11 speed/00000064.jpg'), Path('cassettes/11 speed/00000011.jpg'), Path('cassettes/11 speed/00000075.jpg'), Path('cassettes/11 speed/00000080.jpg'), Path('cassettes/11 speed/00000073.jpeg'), Path('cassettes/11 speed/00000026.jpg'), Path('cassettes/11 speed/00000002.jpg'), Path('cassettes/11 speed/00000003.jpg'), Path('cassettes/11 speed/00000070.jpg'), Path('cassettes/11 speed/00000021.jpg'), Path('cassettes/11 speed/00000065.jpeg'), Path('cassettes/11 speed/00000074.jpeg'), Path('cassettes/11 speed/00000033.jpg'), Path('cassettes/11 speed/00000025.jpg'), Path('cassettes/11 speed/00000052.jpg'), Path('cassettes/11 speed/00000074.jpg'), Path('cassettes/11 speed/00000010.jpg'), Path('cassettes/11 speed/00000051.jpeg'), Path('cassettes/11 speed/00000059.jpg'), Path('cassettes/11 speed/00000034.jpg'), Path('cassettes/11 speed/00000094.jpg'), Path('cassettes/11 speed/00000015.jpg'), Path('cassettes/11 speed/00000092.jpg'), Path('cassettes/11 speed/00000024.jpg'), Path('cassettes/11 speed/00000098.jpg'), Path('cassettes/11 speed/00000066.jpg'), Path('cassettes/11 speed/00000042.jpg'), Path('cassettes/11 speed/00000017.jpg'), Path('cassettes/11 speed/00000099.jpg'), Path('cassettes/11 speed/00000050.jpg'), Path('cassettes/11 speed/00000020.jpg'), Path('cassettes/11 speed/00000060.jpg'), Path('cassettes/11 speed/00000086.jpg'), Path('cassettes/11 speed/00000009.jpg'), Path('cassettes/11 speed/00000031.jpg'), Path('cassettes/11 speed/00000019.jpg'), Path('cassettes/11 speed/00000041.jpg'), Path('cassettes/11 speed/00000007.jpg'), Path('cassettes/11 speed/00000016.jpg'), Path('cassettes/11 speed/00000004.jpg'), Path('cassettes/11 speed/00000098.jpeg'), Path('cassettes/11 speed/00000097.jpg'), Path('cassettes/11 speed/00000092.jpeg'), Path('cassettes/11 speed/00000065.jpg'), Path('cassettes/11 speed/00000044.jpg'), Path('cassettes/11 speed/00000063.jpg'), Path('cassettes/11 speed/00000045.jpg'), Path('cassettes/11 speed/00000056.jpg'), Path('cassettes/11 speed/00000000.jpg'), Path('cassettes/11 speed/00000081.jpeg'), Path('cassettes/11 speed/00000051.jpg'), Path('cassettes/11 speed/00000058.jpg'), Path('cassettes/11 speed/00000047.jpg'), Path('cassettes/11 speed/00000001.jpg'), Path('cassettes/11 speed/00000087.JPG'), Path('cassettes/11 speed/00000059.jpeg'), Path('cassettes/11 speed/00000061.jpg'), Path('cassettes/11 speed/00000035.jpg'), Path('cassettes/11 speed/00000040.jpg'), Path('cassettes/11 speed/00000018.jpg'), Path('cassettes/11 speed/00000032.jpg'), Path('cassettes/11 speed/00000006.jpg'), Path('cassettes/11 speed/00000013.jpg'), Path('cassettes/11 speed/00000013.JPG'), Path('cassettes/11 speed/00000078.jpg'), Path('cassettes/11 speed/00000081.jpg'), Path('cassettes/11 speed/00000043.jpg'), Path('cassettes/11 speed/00000026.jpeg'), Path('cassettes/11 speed/00000058.jpeg'), Path('cassettes/11 speed/00000055.jpg'), Path('cassettes/11 speed/00000071.jpg'), Path('cassettes/11 speed/00000048.jpg'), Path('cassettes/11 speed/00000090.jpeg'), Path('cassettes/11 speed/00000029.jpg'), Path('cassettes/11 speed/00000089.jpg'), Path('cassettes/11 speed/00000069.jpg'), Path('cassettes/11 speed/00000072.jpg'), Path('cassettes/11 speed/00000031.jpeg'), Path('cassettes/11 speed/00000017.jpeg'), Path('cassettes/11 speed/00000095.jpg'), Path('cassettes/11 speed/00000006.jpeg'), Path('cassettes/11 speed/00000005.jpg'), Path('cassettes/11 speed/00000054.jpg'), Path('cassettes/11 speed/00000096.jpg'), Path('cassettes/11 speed/00000053.jpg'), Path('cassettes/11 speed/00000027.jpg'), Path('cassettes/11 speed/00000046.jpg'), Path('cassettes/11 speed/00000000.jpeg'), Path('cassettes/11 speed/00000049.jpg'), Path('cassettes/11 speed/00000045.JPG'), Path('cassettes/11 speed/00000028.jpg'), Path('cassettes/11 speed/00000048.jpeg'), Path('cassettes/11 speed/00000068.jpg'), Path('cassettes/11 speed/00000084.jpg'), Path('cassettes/11 speed/00000076.jpg'), Path('cassettes/11 speed/00000039.jpg'), Path('cassettes/11 speed/00000079.jpg'), Path('cassettes/11 speed/00000093.jpg'), Path('cassettes/11 speed/00000036.jpg'), Path('cassettes/11 speed/00000091.jpg'), Path('cassettes/11 speed/00000064.jpeg'), Path('cassettes/11 speed/00000015.jpeg'), Path('cassettes/11 speed/00000029.jpeg'), Path('cassettes/11 speed/00000087.jpg'), Path('cassettes/11 speed/00000082.jpg'), Path('cassettes/11 speed/00000022.jpg'), Path('cassettes/11 speed/00000008.jpg'), Path('cassettes/11 speed/00000088.jpeg'), Path('cassettes/11 speed/00000077.jpg'), Path('cassettes/11 speed/00000062.jpg'), Path('cassettes/11 speed/00000067.jpeg'), Path('cassettes/11 speed/00000090.jpg'), Path('cassettes/11 speed/00000030.jpg'), Path('cassettes/11 speed/00000083.jpg')]\n",
            "1 corrupted file(s): [Path('cassettes/12 speed/00000017.jpg')]\n"
          ]
        }
      ]
    },
    {
      "cell_type": "markdown",
      "source": [
        "## From Data to DataLoaders"
      ],
      "metadata": {
        "id": "WYGfraNfMRlj"
      }
    }
  ]
}