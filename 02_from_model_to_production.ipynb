{
  "nbformat": 4,
  "nbformat_minor": 0,
  "metadata": {
    "colab": {
      "name": "02_from_model_to_production.ipynb",
      "provenance": [],
      "authorship_tag": "ABX9TyOCK6w8LCHGUvzPd2pgfWvj",
      "include_colab_link": true
    },
    "kernelspec": {
      "name": "python3",
      "display_name": "Python 3"
    },
    "language_info": {
      "name": "python"
    },
    "accelerator": "GPU"
  },
  "cells": [
    {
      "cell_type": "markdown",
      "metadata": {
        "id": "view-in-github",
        "colab_type": "text"
      },
      "source": [
        "<a href=\"https://colab.research.google.com/github/antounes/deep-learning-fastai-pytorch/blob/main/02_from_model_to_production.ipynb\" target=\"_parent\"><img src=\"https://colab.research.google.com/assets/colab-badge.svg\" alt=\"Open In Colab\"/></a>"
      ]
    },
    {
      "cell_type": "markdown",
      "source": [
        "Let's try to build a model that classifies images of bicycles between Specialized, Pinarello and Trek bicycles."
      ],
      "metadata": {
        "id": "UrKvafX95j0u"
      }
    },
    {
      "cell_type": "markdown",
      "source": [
        "## Gathering Data"
      ],
      "metadata": {
        "id": "G7xGAvLFMNSo"
      }
    },
    {
      "cell_type": "code",
      "execution_count": 1,
      "metadata": {
        "id": "XF6LmIp3zaNZ",
        "colab": {
          "base_uri": "https://localhost:8080/"
        },
        "outputId": "dc7f3beb-9a96-4e40-8c5e-4c510c30697a"
      },
      "outputs": [
        {
          "output_type": "stream",
          "name": "stdout",
          "text": [
            "\u001b[K     |████████████████████████████████| 720 kB 4.2 MB/s \n",
            "\u001b[K     |████████████████████████████████| 46 kB 2.3 MB/s \n",
            "\u001b[K     |████████████████████████████████| 1.2 MB 39.0 MB/s \n",
            "\u001b[K     |████████████████████████████████| 189 kB 49.8 MB/s \n",
            "\u001b[K     |████████████████████████████████| 56 kB 4.6 MB/s \n",
            "\u001b[K     |████████████████████████████████| 51 kB 284 kB/s \n",
            "\u001b[?25hMounted at /content/gdrive\n"
          ]
        }
      ],
      "source": [
        "!pip install -Uqq fastbook\n",
        "import fastbook\n",
        "fastbook.setup_book()\n",
        "\n",
        "from fastbook import *"
      ]
    },
    {
      "cell_type": "code",
      "source": [
        "# Download URLs for all of our search terms\n",
        "\n",
        "bicycle_brands = 'specialized', 'pinarello', 'trek'\n",
        "path = Path('bicycles')\n",
        "\n",
        "if not path.exists():\n",
        "  path.mkdir()\n",
        "for b in bicycle_brands:\n",
        "  dest = (path/b)\n",
        "  dest.mkdir(exist_ok=True)\n",
        "  results = search_images_ddg('{} road bicycle'.format(b))\n",
        "  download_images(urls=results, dest=dest)"
      ],
      "metadata": {
        "id": "F2_kCZT30ORH"
      },
      "execution_count": 2,
      "outputs": []
    },
    {
      "cell_type": "code",
      "source": [
        "# Check images are located in the destination folder\n",
        "\n",
        "fns = get_image_files(path)\n",
        "fns"
      ],
      "metadata": {
        "colab": {
          "base_uri": "https://localhost:8080/"
        },
        "id": "ufhb_yDm5QCl",
        "outputId": "f3587e23-8234-4702-f87e-deb6c6721dbc"
      },
      "execution_count": 3,
      "outputs": [
        {
          "output_type": "execute_result",
          "data": {
            "text/plain": [
              "(#759) [Path('bicycles/specialized/00000035.jpg'),Path('bicycles/specialized/00000176.jpg'),Path('bicycles/specialized/00000137.jpg'),Path('bicycles/specialized/00000154.jpg'),Path('bicycles/specialized/00000218.JPG'),Path('bicycles/specialized/00000237.gif'),Path('bicycles/specialized/00000107.JPG'),Path('bicycles/specialized/00000071.jpg'),Path('bicycles/specialized/00000080.JPG'),Path('bicycles/specialized/00000008.jpg')...]"
            ]
          },
          "metadata": {},
          "execution_count": 3
        }
      ]
    },
    {
      "cell_type": "code",
      "source": [
        "# Check if some files are corrupt\n",
        "\n",
        "failed = verify_images(fns)\n",
        "failed"
      ],
      "metadata": {
        "colab": {
          "base_uri": "https://localhost:8080/"
        },
        "id": "Spz1VYy85zjS",
        "outputId": "369a6389-df3c-4743-bb1c-c330efc8e249"
      },
      "execution_count": 4,
      "outputs": [
        {
          "output_type": "execute_result",
          "data": {
            "text/plain": [
              "(#1) [Path('bicycles/specialized/00000007.jpg')]"
            ]
          },
          "metadata": {},
          "execution_count": 4
        }
      ]
    },
    {
      "cell_type": "code",
      "source": [
        "# Remove failed images\n",
        "\n",
        "failed.map(Path.unlink);"
      ],
      "metadata": {
        "id": "9HJzlXGRHVZx"
      },
      "execution_count": 5,
      "outputs": []
    },
    {
      "cell_type": "markdown",
      "source": [
        "## From Data to DataLoaders"
      ],
      "metadata": {
        "id": "WYGfraNfMRlj"
      }
    },
    {
      "cell_type": "code",
      "source": [
        "# Assemble downloaded data into a format suitable for model training\n",
        "# Use DataLoaders object"
      ],
      "metadata": {
        "id": "V2Z-lqf6L9vb"
      },
      "execution_count": null,
      "outputs": []
    }
  ]
}